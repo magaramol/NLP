{
 "cells": [
  {
   "cell_type": "code",
   "execution_count": 3,
   "metadata": {},
   "outputs": [],
   "source": [
    "import pandas as pd"
   ]
  },
  {
   "cell_type": "code",
   "execution_count": 4,
   "metadata": {},
   "outputs": [],
   "source": [
    "df=pd.read_csv('/home/ams/Documents/python/vscode/nlp/NLP/OMDB_data/movie_data.csv')"
   ]
  },
  {
   "cell_type": "code",
   "execution_count": 5,
   "metadata": {},
   "outputs": [
    {
     "data": {
      "text/html": [
       "<div>\n",
       "<style scoped>\n",
       "    .dataframe tbody tr th:only-of-type {\n",
       "        vertical-align: middle;\n",
       "    }\n",
       "\n",
       "    .dataframe tbody tr th {\n",
       "        vertical-align: top;\n",
       "    }\n",
       "\n",
       "    .dataframe thead th {\n",
       "        text-align: right;\n",
       "    }\n",
       "</style>\n",
       "<table border=\"1\" class=\"dataframe\">\n",
       "  <thead>\n",
       "    <tr style=\"text-align: right;\">\n",
       "      <th></th>\n",
       "      <th>Title</th>\n",
       "      <th>Year</th>\n",
       "      <th>Plot</th>\n",
       "    </tr>\n",
       "  </thead>\n",
       "  <tbody>\n",
       "    <tr>\n",
       "      <th>0</th>\n",
       "      <td>The Fog</td>\n",
       "      <td>1980</td>\n",
       "      <td>An unearthly fog rolls into a small coastal to...</td>\n",
       "    </tr>\n",
       "    <tr>\n",
       "      <th>1</th>\n",
       "      <td>Stir Crazy</td>\n",
       "      <td>1980</td>\n",
       "      <td>Set up and wrongfully accused, two best friend...</td>\n",
       "    </tr>\n",
       "    <tr>\n",
       "      <th>2</th>\n",
       "      <td>Cruising</td>\n",
       "      <td>1980</td>\n",
       "      <td>A police officer goes undercover in the underg...</td>\n",
       "    </tr>\n",
       "    <tr>\n",
       "      <th>3</th>\n",
       "      <td>Heaven's Gate</td>\n",
       "      <td>1980</td>\n",
       "      <td>During the Johnson County War in 1890 Wyoming,...</td>\n",
       "    </tr>\n",
       "    <tr>\n",
       "      <th>4</th>\n",
       "      <td>The Final Countdown</td>\n",
       "      <td>1980</td>\n",
       "      <td>A modern aircraft carrier is thrown back in ti...</td>\n",
       "    </tr>\n",
       "    <tr>\n",
       "      <th>...</th>\n",
       "      <td>...</td>\n",
       "      <td>...</td>\n",
       "      <td>...</td>\n",
       "    </tr>\n",
       "    <tr>\n",
       "      <th>801</th>\n",
       "      <td>La Cage aux Folles 3: The Wedding</td>\n",
       "      <td>1985</td>\n",
       "      <td>Third (and final) of the La Cage aux Folles se...</td>\n",
       "    </tr>\n",
       "    <tr>\n",
       "      <th>802</th>\n",
       "      <td>James Joyce's Women</td>\n",
       "      <td>1985</td>\n",
       "      <td>In this tribute to James Joyce, Fionnula Flana...</td>\n",
       "    </tr>\n",
       "    <tr>\n",
       "      <th>803</th>\n",
       "      <td>Turtle Diary</td>\n",
       "      <td>1985</td>\n",
       "      <td>Two separate people, a man and a woman, find s...</td>\n",
       "    </tr>\n",
       "    <tr>\n",
       "      <th>804</th>\n",
       "      <td>Maccheroni</td>\n",
       "      <td>1985</td>\n",
       "      <td>A businessman from the United States returns t...</td>\n",
       "    </tr>\n",
       "    <tr>\n",
       "      <th>805</th>\n",
       "      <td>My Man Adam</td>\n",
       "      <td>1985</td>\n",
       "      <td>A pizza delivery lad, who fantasises about his...</td>\n",
       "    </tr>\n",
       "  </tbody>\n",
       "</table>\n",
       "<p>806 rows × 3 columns</p>\n",
       "</div>"
      ],
      "text/plain": [
       "                                 Title  Year  \\\n",
       "0                              The Fog  1980   \n",
       "1                           Stir Crazy  1980   \n",
       "2                             Cruising  1980   \n",
       "3                        Heaven's Gate  1980   \n",
       "4                  The Final Countdown  1980   \n",
       "..                                 ...   ...   \n",
       "801  La Cage aux Folles 3: The Wedding  1985   \n",
       "802                James Joyce's Women  1985   \n",
       "803                       Turtle Diary  1985   \n",
       "804                         Maccheroni  1985   \n",
       "805                        My Man Adam  1985   \n",
       "\n",
       "                                                  Plot  \n",
       "0    An unearthly fog rolls into a small coastal to...  \n",
       "1    Set up and wrongfully accused, two best friend...  \n",
       "2    A police officer goes undercover in the underg...  \n",
       "3    During the Johnson County War in 1890 Wyoming,...  \n",
       "4    A modern aircraft carrier is thrown back in ti...  \n",
       "..                                                 ...  \n",
       "801  Third (and final) of the La Cage aux Folles se...  \n",
       "802  In this tribute to James Joyce, Fionnula Flana...  \n",
       "803  Two separate people, a man and a woman, find s...  \n",
       "804  A businessman from the United States returns t...  \n",
       "805  A pizza delivery lad, who fantasises about his...  \n",
       "\n",
       "[806 rows x 3 columns]"
      ]
     },
     "execution_count": 5,
     "metadata": {},
     "output_type": "execute_result"
    }
   ],
   "source": [
    "df"
   ]
  },
  {
   "cell_type": "markdown",
   "metadata": {},
   "source": [
    "## Convert all text to lowercase "
   ]
  },
  {
   "cell_type": "code",
   "execution_count": 6,
   "metadata": {},
   "outputs": [],
   "source": [
    "df['Plot'] =df['Plot'].str.lower()"
   ]
  },
  {
   "cell_type": "code",
   "execution_count": 7,
   "metadata": {},
   "outputs": [
    {
     "data": {
      "text/html": [
       "<div>\n",
       "<style scoped>\n",
       "    .dataframe tbody tr th:only-of-type {\n",
       "        vertical-align: middle;\n",
       "    }\n",
       "\n",
       "    .dataframe tbody tr th {\n",
       "        vertical-align: top;\n",
       "    }\n",
       "\n",
       "    .dataframe thead th {\n",
       "        text-align: right;\n",
       "    }\n",
       "</style>\n",
       "<table border=\"1\" class=\"dataframe\">\n",
       "  <thead>\n",
       "    <tr style=\"text-align: right;\">\n",
       "      <th></th>\n",
       "      <th>Title</th>\n",
       "      <th>Year</th>\n",
       "      <th>Plot</th>\n",
       "    </tr>\n",
       "  </thead>\n",
       "  <tbody>\n",
       "    <tr>\n",
       "      <th>0</th>\n",
       "      <td>The Fog</td>\n",
       "      <td>1980</td>\n",
       "      <td>an unearthly fog rolls into a small coastal to...</td>\n",
       "    </tr>\n",
       "    <tr>\n",
       "      <th>1</th>\n",
       "      <td>Stir Crazy</td>\n",
       "      <td>1980</td>\n",
       "      <td>set up and wrongfully accused, two best friend...</td>\n",
       "    </tr>\n",
       "    <tr>\n",
       "      <th>2</th>\n",
       "      <td>Cruising</td>\n",
       "      <td>1980</td>\n",
       "      <td>a police officer goes undercover in the underg...</td>\n",
       "    </tr>\n",
       "    <tr>\n",
       "      <th>3</th>\n",
       "      <td>Heaven's Gate</td>\n",
       "      <td>1980</td>\n",
       "      <td>during the johnson county war in 1890 wyoming,...</td>\n",
       "    </tr>\n",
       "    <tr>\n",
       "      <th>4</th>\n",
       "      <td>The Final Countdown</td>\n",
       "      <td>1980</td>\n",
       "      <td>a modern aircraft carrier is thrown back in ti...</td>\n",
       "    </tr>\n",
       "    <tr>\n",
       "      <th>...</th>\n",
       "      <td>...</td>\n",
       "      <td>...</td>\n",
       "      <td>...</td>\n",
       "    </tr>\n",
       "    <tr>\n",
       "      <th>801</th>\n",
       "      <td>La Cage aux Folles 3: The Wedding</td>\n",
       "      <td>1985</td>\n",
       "      <td>third (and final) of the la cage aux folles se...</td>\n",
       "    </tr>\n",
       "    <tr>\n",
       "      <th>802</th>\n",
       "      <td>James Joyce's Women</td>\n",
       "      <td>1985</td>\n",
       "      <td>in this tribute to james joyce, fionnula flana...</td>\n",
       "    </tr>\n",
       "    <tr>\n",
       "      <th>803</th>\n",
       "      <td>Turtle Diary</td>\n",
       "      <td>1985</td>\n",
       "      <td>two separate people, a man and a woman, find s...</td>\n",
       "    </tr>\n",
       "    <tr>\n",
       "      <th>804</th>\n",
       "      <td>Maccheroni</td>\n",
       "      <td>1985</td>\n",
       "      <td>a businessman from the united states returns t...</td>\n",
       "    </tr>\n",
       "    <tr>\n",
       "      <th>805</th>\n",
       "      <td>My Man Adam</td>\n",
       "      <td>1985</td>\n",
       "      <td>a pizza delivery lad, who fantasises about his...</td>\n",
       "    </tr>\n",
       "  </tbody>\n",
       "</table>\n",
       "<p>806 rows × 3 columns</p>\n",
       "</div>"
      ],
      "text/plain": [
       "                                 Title  Year  \\\n",
       "0                              The Fog  1980   \n",
       "1                           Stir Crazy  1980   \n",
       "2                             Cruising  1980   \n",
       "3                        Heaven's Gate  1980   \n",
       "4                  The Final Countdown  1980   \n",
       "..                                 ...   ...   \n",
       "801  La Cage aux Folles 3: The Wedding  1985   \n",
       "802                James Joyce's Women  1985   \n",
       "803                       Turtle Diary  1985   \n",
       "804                         Maccheroni  1985   \n",
       "805                        My Man Adam  1985   \n",
       "\n",
       "                                                  Plot  \n",
       "0    an unearthly fog rolls into a small coastal to...  \n",
       "1    set up and wrongfully accused, two best friend...  \n",
       "2    a police officer goes undercover in the underg...  \n",
       "3    during the johnson county war in 1890 wyoming,...  \n",
       "4    a modern aircraft carrier is thrown back in ti...  \n",
       "..                                                 ...  \n",
       "801  third (and final) of the la cage aux folles se...  \n",
       "802  in this tribute to james joyce, fionnula flana...  \n",
       "803  two separate people, a man and a woman, find s...  \n",
       "804  a businessman from the united states returns t...  \n",
       "805  a pizza delivery lad, who fantasises about his...  \n",
       "\n",
       "[806 rows x 3 columns]"
      ]
     },
     "execution_count": 7,
     "metadata": {},
     "output_type": "execute_result"
    }
   ],
   "source": [
    "\n",
    "df"
   ]
  },
  {
   "cell_type": "markdown",
   "metadata": {},
   "source": [
    "## remove html tags"
   ]
  },
  {
   "cell_type": "code",
   "execution_count": 1,
   "metadata": {},
   "outputs": [],
   "source": [
    "# df"
   ]
  },
  {
   "cell_type": "code",
   "execution_count": 10,
   "metadata": {},
   "outputs": [],
   "source": [
    "import re\n",
    "\n",
    "def remove_html_tags(text):\n",
    "    if isinstance(text, str):\n",
    "        pattern = re.compile('<.*?>')\n",
    "        return pattern.sub(r'', text)\n",
    "    else:\n",
    "        return text\n",
    "\n",
    "df['Plot'] = df['Plot'].apply(remove_html_tags)\n"
   ]
  },
  {
   "cell_type": "code",
   "execution_count": 11,
   "metadata": {},
   "outputs": [
    {
     "data": {
      "text/html": [
       "<div>\n",
       "<style scoped>\n",
       "    .dataframe tbody tr th:only-of-type {\n",
       "        vertical-align: middle;\n",
       "    }\n",
       "\n",
       "    .dataframe tbody tr th {\n",
       "        vertical-align: top;\n",
       "    }\n",
       "\n",
       "    .dataframe thead th {\n",
       "        text-align: right;\n",
       "    }\n",
       "</style>\n",
       "<table border=\"1\" class=\"dataframe\">\n",
       "  <thead>\n",
       "    <tr style=\"text-align: right;\">\n",
       "      <th></th>\n",
       "      <th>Title</th>\n",
       "      <th>Year</th>\n",
       "      <th>Plot</th>\n",
       "    </tr>\n",
       "  </thead>\n",
       "  <tbody>\n",
       "    <tr>\n",
       "      <th>0</th>\n",
       "      <td>The Fog</td>\n",
       "      <td>1980</td>\n",
       "      <td>an unearthly fog rolls into a small coastal to...</td>\n",
       "    </tr>\n",
       "    <tr>\n",
       "      <th>1</th>\n",
       "      <td>Stir Crazy</td>\n",
       "      <td>1980</td>\n",
       "      <td>set up and wrongfully accused, two best friend...</td>\n",
       "    </tr>\n",
       "    <tr>\n",
       "      <th>2</th>\n",
       "      <td>Cruising</td>\n",
       "      <td>1980</td>\n",
       "      <td>a police officer goes undercover in the underg...</td>\n",
       "    </tr>\n",
       "    <tr>\n",
       "      <th>3</th>\n",
       "      <td>Heaven's Gate</td>\n",
       "      <td>1980</td>\n",
       "      <td>during the johnson county war in 1890 wyoming,...</td>\n",
       "    </tr>\n",
       "    <tr>\n",
       "      <th>4</th>\n",
       "      <td>The Final Countdown</td>\n",
       "      <td>1980</td>\n",
       "      <td>a modern aircraft carrier is thrown back in ti...</td>\n",
       "    </tr>\n",
       "    <tr>\n",
       "      <th>...</th>\n",
       "      <td>...</td>\n",
       "      <td>...</td>\n",
       "      <td>...</td>\n",
       "    </tr>\n",
       "    <tr>\n",
       "      <th>801</th>\n",
       "      <td>La Cage aux Folles 3: The Wedding</td>\n",
       "      <td>1985</td>\n",
       "      <td>third (and final) of the la cage aux folles se...</td>\n",
       "    </tr>\n",
       "    <tr>\n",
       "      <th>802</th>\n",
       "      <td>James Joyce's Women</td>\n",
       "      <td>1985</td>\n",
       "      <td>in this tribute to james joyce, fionnula flana...</td>\n",
       "    </tr>\n",
       "    <tr>\n",
       "      <th>803</th>\n",
       "      <td>Turtle Diary</td>\n",
       "      <td>1985</td>\n",
       "      <td>two separate people, a man and a woman, find s...</td>\n",
       "    </tr>\n",
       "    <tr>\n",
       "      <th>804</th>\n",
       "      <td>Maccheroni</td>\n",
       "      <td>1985</td>\n",
       "      <td>a businessman from the united states returns t...</td>\n",
       "    </tr>\n",
       "    <tr>\n",
       "      <th>805</th>\n",
       "      <td>My Man Adam</td>\n",
       "      <td>1985</td>\n",
       "      <td>a pizza delivery lad, who fantasises about his...</td>\n",
       "    </tr>\n",
       "  </tbody>\n",
       "</table>\n",
       "<p>806 rows × 3 columns</p>\n",
       "</div>"
      ],
      "text/plain": [
       "                                 Title  Year  \\\n",
       "0                              The Fog  1980   \n",
       "1                           Stir Crazy  1980   \n",
       "2                             Cruising  1980   \n",
       "3                        Heaven's Gate  1980   \n",
       "4                  The Final Countdown  1980   \n",
       "..                                 ...   ...   \n",
       "801  La Cage aux Folles 3: The Wedding  1985   \n",
       "802                James Joyce's Women  1985   \n",
       "803                       Turtle Diary  1985   \n",
       "804                         Maccheroni  1985   \n",
       "805                        My Man Adam  1985   \n",
       "\n",
       "                                                  Plot  \n",
       "0    an unearthly fog rolls into a small coastal to...  \n",
       "1    set up and wrongfully accused, two best friend...  \n",
       "2    a police officer goes undercover in the underg...  \n",
       "3    during the johnson county war in 1890 wyoming,...  \n",
       "4    a modern aircraft carrier is thrown back in ti...  \n",
       "..                                                 ...  \n",
       "801  third (and final) of the la cage aux folles se...  \n",
       "802  in this tribute to james joyce, fionnula flana...  \n",
       "803  two separate people, a man and a woman, find s...  \n",
       "804  a businessman from the united states returns t...  \n",
       "805  a pizza delivery lad, who fantasises about his...  \n",
       "\n",
       "[806 rows x 3 columns]"
      ]
     },
     "execution_count": 11,
     "metadata": {},
     "output_type": "execute_result"
    }
   ],
   "source": [
    "df"
   ]
  },
  {
   "cell_type": "markdown",
   "metadata": {},
   "source": [
    "## Remove url"
   ]
  },
  {
   "cell_type": "code",
   "execution_count": 14,
   "metadata": {},
   "outputs": [],
   "source": [
    "def remove_url(text):\n",
    "    if isinstance(text, str):\n",
    "        pattern = re.compile(r'https?://\\S+|www\\.\\S+')\n",
    "        return pattern.sub(r'', text)\n",
    "    else:\n",
    "        return text"
   ]
  },
  {
   "cell_type": "code",
   "execution_count": 15,
   "metadata": {},
   "outputs": [],
   "source": [
    "df['Plot']=df['Plot'].apply(remove_url)"
   ]
  },
  {
   "cell_type": "markdown",
   "metadata": {},
   "source": [
    "## Remove punctuation"
   ]
  },
  {
   "cell_type": "code",
   "execution_count": null,
   "metadata": {},
   "outputs": [],
   "source": [
    "def remove_punc(text, exclude):\n",
    "    for char in exclude:\n",
    "        text = text.replace(char, '')\n",
    "    return text\n",
    "\n",
    "exclude = '''!\"#$%&'()*+,-./:;<=>?@[\\]^_`{|}~'''\n",
    "df['Plot'] = df['Plot'].apply(lambda x: remove_punc(x, exclude))\n",
    "\n"
   ]
  },
  {
   "cell_type": "markdown",
   "metadata": {},
   "source": [
    "## remove stopwords"
   ]
  },
  {
   "cell_type": "code",
   "execution_count": 23,
   "metadata": {},
   "outputs": [
    {
     "name": "stderr",
     "output_type": "stream",
     "text": [
      "[nltk_data] Downloading package stopwords to /home/ams/nltk_data...\n",
      "[nltk_data]   Unzipping corpora/stopwords.zip.\n"
     ]
    },
    {
     "data": {
      "text/plain": [
       "True"
      ]
     },
     "execution_count": 23,
     "metadata": {},
     "output_type": "execute_result"
    }
   ],
   "source": [
    "import nltk\n",
    "nltk.download('stopwords')\n"
   ]
  },
  {
   "cell_type": "code",
   "execution_count": 24,
   "metadata": {},
   "outputs": [],
   "source": [
    "from nltk.corpus import stopwords"
   ]
  },
  {
   "cell_type": "code",
   "execution_count": 28,
   "metadata": {},
   "outputs": [
    {
     "name": "stderr",
     "output_type": "stream",
     "text": [
      "[nltk_data] Downloading package stopwords to /home/ams/nltk_data...\n",
      "[nltk_data]   Package stopwords is already up-to-date!\n"
     ]
    }
   ],
   "source": [
    "from nltk.corpus import stopwords\n",
    "import nltk\n",
    "nltk.download('stopwords')\n",
    "\n",
    "stop_words = set(stopwords.words('english'))\n",
    "\n",
    "def remove_stopwords(text):\n",
    "    if isinstance(text, str):\n",
    "        new_text = []\n",
    "        for word in text.split():\n",
    "            if word.lower() not in stop_words:\n",
    "                new_text.append(word)\n",
    "        return \" \".join(new_text)\n",
    "    else:\n",
    "        return text\n"
   ]
  },
  {
   "cell_type": "code",
   "execution_count": 30,
   "metadata": {},
   "outputs": [],
   "source": [
    "df['Plot']=df['Plot'].apply(remove_stopwords)\n"
   ]
  },
  {
   "cell_type": "markdown",
   "metadata": {},
   "source": [
    "## Tokenize"
   ]
  },
  {
   "cell_type": "code",
   "execution_count": 31,
   "metadata": {},
   "outputs": [],
   "source": [
    "from nltk.tokenize import word_tokenize,sent_tokenize"
   ]
  },
  {
   "cell_type": "code",
   "execution_count": 32,
   "metadata": {},
   "outputs": [
    {
     "name": "stderr",
     "output_type": "stream",
     "text": [
      "[nltk_data] Downloading package punkt to /home/ams/nltk_data...\n",
      "[nltk_data]   Unzipping tokenizers/punkt.zip.\n"
     ]
    }
   ],
   "source": [
    "import nltk\n",
    "from nltk.tokenize import sent_tokenize\n",
    "nltk.download('punkt')\n",
    "\n",
    "def tokenize_sentences(text):\n",
    "    if isinstance(text, str):\n",
    "        return sent_tokenize(text)\n",
    "    else:\n",
    "        return []\n",
    "\n",
    "df['Sentences'] = df['Plot'].apply(tokenize_sentences)\n"
   ]
  },
  {
   "cell_type": "code",
   "execution_count": 33,
   "metadata": {},
   "outputs": [
    {
     "data": {
      "text/html": [
       "<div>\n",
       "<style scoped>\n",
       "    .dataframe tbody tr th:only-of-type {\n",
       "        vertical-align: middle;\n",
       "    }\n",
       "\n",
       "    .dataframe tbody tr th {\n",
       "        vertical-align: top;\n",
       "    }\n",
       "\n",
       "    .dataframe thead th {\n",
       "        text-align: right;\n",
       "    }\n",
       "</style>\n",
       "<table border=\"1\" class=\"dataframe\">\n",
       "  <thead>\n",
       "    <tr style=\"text-align: right;\">\n",
       "      <th></th>\n",
       "      <th>Title</th>\n",
       "      <th>Year</th>\n",
       "      <th>Plot</th>\n",
       "      <th>Sentences</th>\n",
       "    </tr>\n",
       "  </thead>\n",
       "  <tbody>\n",
       "    <tr>\n",
       "      <th>0</th>\n",
       "      <td>The Fog</td>\n",
       "      <td>1980</td>\n",
       "      <td>unearthly fog rolls small coastal town exactly...</td>\n",
       "      <td>[unearthly fog rolls small coastal town exactl...</td>\n",
       "    </tr>\n",
       "    <tr>\n",
       "      <th>1</th>\n",
       "      <td>Stir Crazy</td>\n",
       "      <td>1980</td>\n",
       "      <td>set wrongfully accused, two best friends sent ...</td>\n",
       "      <td>[set wrongfully accused, two best friends sent...</td>\n",
       "    </tr>\n",
       "    <tr>\n",
       "      <th>2</th>\n",
       "      <td>Cruising</td>\n",
       "      <td>1980</td>\n",
       "      <td>police officer goes undercover underground s&amp;a...</td>\n",
       "      <td>[police officer goes undercover underground s&amp;...</td>\n",
       "    </tr>\n",
       "    <tr>\n",
       "      <th>3</th>\n",
       "      <td>Heaven's Gate</td>\n",
       "      <td>1980</td>\n",
       "      <td>johnson county war 1890 wyoming, sheriff born ...</td>\n",
       "      <td>[johnson county war 1890 wyoming, sheriff born...</td>\n",
       "    </tr>\n",
       "    <tr>\n",
       "      <th>4</th>\n",
       "      <td>The Final Countdown</td>\n",
       "      <td>1980</td>\n",
       "      <td>modern aircraft carrier thrown back time 1941 ...</td>\n",
       "      <td>[modern aircraft carrier thrown back time 1941...</td>\n",
       "    </tr>\n",
       "    <tr>\n",
       "      <th>...</th>\n",
       "      <td>...</td>\n",
       "      <td>...</td>\n",
       "      <td>...</td>\n",
       "      <td>...</td>\n",
       "    </tr>\n",
       "    <tr>\n",
       "      <th>801</th>\n",
       "      <td>La Cage aux Folles 3: The Wedding</td>\n",
       "      <td>1985</td>\n",
       "      <td>third (and final) la cage aux folles series re...</td>\n",
       "      <td>[third (and final) la cage aux folles series r...</td>\n",
       "    </tr>\n",
       "    <tr>\n",
       "      <th>802</th>\n",
       "      <td>James Joyce's Women</td>\n",
       "      <td>1985</td>\n",
       "      <td>tribute james joyce, fionnula flanagan gives t...</td>\n",
       "      <td>[tribute james joyce, fionnula flanagan gives ...</td>\n",
       "    </tr>\n",
       "    <tr>\n",
       "      <th>803</th>\n",
       "      <td>Turtle Diary</td>\n",
       "      <td>1985</td>\n",
       "      <td>two separate people, man woman, find something...</td>\n",
       "      <td>[two separate people, man woman, find somethin...</td>\n",
       "    </tr>\n",
       "    <tr>\n",
       "      <th>804</th>\n",
       "      <td>Maccheroni</td>\n",
       "      <td>1985</td>\n",
       "      <td>businessman united states returns italy first ...</td>\n",
       "      <td>[businessman united states returns italy first...</td>\n",
       "    </tr>\n",
       "    <tr>\n",
       "      <th>805</th>\n",
       "      <td>My Man Adam</td>\n",
       "      <td>1985</td>\n",
       "      <td>pizza delivery lad, fantasises dream girl hero...</td>\n",
       "      <td>[pizza delivery lad, fantasises dream girl her...</td>\n",
       "    </tr>\n",
       "  </tbody>\n",
       "</table>\n",
       "<p>806 rows × 4 columns</p>\n",
       "</div>"
      ],
      "text/plain": [
       "                                 Title  Year  \\\n",
       "0                              The Fog  1980   \n",
       "1                           Stir Crazy  1980   \n",
       "2                             Cruising  1980   \n",
       "3                        Heaven's Gate  1980   \n",
       "4                  The Final Countdown  1980   \n",
       "..                                 ...   ...   \n",
       "801  La Cage aux Folles 3: The Wedding  1985   \n",
       "802                James Joyce's Women  1985   \n",
       "803                       Turtle Diary  1985   \n",
       "804                         Maccheroni  1985   \n",
       "805                        My Man Adam  1985   \n",
       "\n",
       "                                                  Plot  \\\n",
       "0    unearthly fog rolls small coastal town exactly...   \n",
       "1    set wrongfully accused, two best friends sent ...   \n",
       "2    police officer goes undercover underground s&a...   \n",
       "3    johnson county war 1890 wyoming, sheriff born ...   \n",
       "4    modern aircraft carrier thrown back time 1941 ...   \n",
       "..                                                 ...   \n",
       "801  third (and final) la cage aux folles series re...   \n",
       "802  tribute james joyce, fionnula flanagan gives t...   \n",
       "803  two separate people, man woman, find something...   \n",
       "804  businessman united states returns italy first ...   \n",
       "805  pizza delivery lad, fantasises dream girl hero...   \n",
       "\n",
       "                                             Sentences  \n",
       "0    [unearthly fog rolls small coastal town exactl...  \n",
       "1    [set wrongfully accused, two best friends sent...  \n",
       "2    [police officer goes undercover underground s&...  \n",
       "3    [johnson county war 1890 wyoming, sheriff born...  \n",
       "4    [modern aircraft carrier thrown back time 1941...  \n",
       "..                                                 ...  \n",
       "801  [third (and final) la cage aux folles series r...  \n",
       "802  [tribute james joyce, fionnula flanagan gives ...  \n",
       "803  [two separate people, man woman, find somethin...  \n",
       "804  [businessman united states returns italy first...  \n",
       "805  [pizza delivery lad, fantasises dream girl her...  \n",
       "\n",
       "[806 rows x 4 columns]"
      ]
     },
     "execution_count": 33,
     "metadata": {},
     "output_type": "execute_result"
    }
   ],
   "source": [
    "df"
   ]
  },
  {
   "cell_type": "code",
   "execution_count": 34,
   "metadata": {},
   "outputs": [
    {
     "data": {
      "text/plain": [
       "['set wrongfully accused, two best friends sent prison crime commit.',\n",
       " 'however, prison cell keep locked cage.']"
      ]
     },
     "execution_count": 34,
     "metadata": {},
     "output_type": "execute_result"
    }
   ],
   "source": [
    "df['Sentences'][1]"
   ]
  },
  {
   "cell_type": "code",
   "execution_count": null,
   "metadata": {},
   "outputs": [],
   "source": []
  }
 ],
 "metadata": {
  "kernelspec": {
   "display_name": "Python 3",
   "language": "python",
   "name": "python3"
  },
  "language_info": {
   "codemirror_mode": {
    "name": "ipython",
    "version": 3
   },
   "file_extension": ".py",
   "mimetype": "text/x-python",
   "name": "python",
   "nbconvert_exporter": "python",
   "pygments_lexer": "ipython3",
   "version": "3.9.12"
  }
 },
 "nbformat": 4,
 "nbformat_minor": 2
}
